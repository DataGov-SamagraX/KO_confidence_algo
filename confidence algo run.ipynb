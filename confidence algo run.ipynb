{
 "cells": [
  {
   "cell_type": "code",
   "execution_count": 109,
   "id": "4604ecf8",
   "metadata": {},
   "outputs": [],
   "source": [
    "import numpy as np\n",
    "import pandas as pd\n",
    "import mysql.connector\n",
    "import os\n",
    "from dotenv import load_dotenv\n",
    "from pathlib import Path\n",
    "\n",
    "\n",
    "\n",
    "## locations where the files with confidence scores need to be saved\n",
    "save_location = 'confidence_results/'\n",
    "\n",
    "## csv file with the SQL code repo\n",
    "sql_repo_csv_location =  'sql_code_repo_v5.csv'\n",
    "\n",
    "sql_folder_location =  'SQL_dump/'\n",
    "gamma = 1\n",
    "max_t_w_value = 0.975\n",
    "maximum_number_of_iterations = 100 \n",
    "\n",
    "minimum_absolute_difference = 0.001\n",
    "# dotenv_path = Path('.env')\n",
    "# load_dotenv(dotenv_path=dotenv_path)\n",
    "\n",
    "#%%  Declaring all the variables\n",
    "\n",
    "\n",
    "# ## setting the maximum confidence a source can have: \n",
    "# maximum_confidence_value = float(os.getenv('maximum_confidence_value'))\n",
    "\n",
    "# ## setting  the maximum number of iterations in the algo: \n",
    "# maximum_number_of_iterations =  float(os.getenv('maximum_number_of_iterations'))\n",
    "\n",
    "# ## setting the minimum differnce in the trustworthiness scores to be reached to end the algo\n",
    "# minimum_absolute_difference =  float(os.getenv('minimum_absolute_difference'))\n",
    "\n",
    "\n",
    "\n",
    "#%% Pre-defined variables\n",
    "\n",
    "## Function to carry out the iterations of confidence algo \n",
    "def carry_out_iterations( data,list_of_cols,t_w,id_colname,gamma): \n",
    "    \n",
    "    \"\"\"\n",
    "    Arguments: \n",
    "        data : the table serving as input for the confidence algo \n",
    "        list_of_cols:  list of column names that serve as unique sources for the data points \n",
    "        t_w:  array of initial confidence values (source trustworthiness) for each source. Usually set to 0.5 for each source\n",
    "        id_colname: Column name with unique id value for each row\n",
    "        \n",
    "    Returned values: \n",
    "    t_w_df : table with the changing source trustworthiness with each iteration\n",
    "    train_data_confidence : Final table with the final confidence values for each data point for each source\n",
    "    \n",
    "    \"\"\"\n",
    "        \n",
    "    \n",
    "    \n",
    "    train_data =  data[list_of_cols].copy()\n",
    "    \n",
    "    train_data = train_data.loc[np.sum(~train_data.isna(),axis = 1) > 1,:]\n",
    "    ## creating empty data frame with same structure as traindata to copy confidence scores \n",
    "    \n",
    "    train_data_confidence =  train_data.copy()\n",
    "    train_data_confidence.loc[:,:]= 0\n",
    "\n",
    "    ## calculating (1-t(w)). Carrying out calculation required for the equation\n",
    "    t_w_inv =  1- t_w\n",
    "    tau_w =  -np.log(t_w_inv)\n",
    "\n",
    "    ## creating dataframe that maintains list of confidence values through each iteration\n",
    "    confidence_iterations = pd.DataFrame(columns =train_data.columns.tolist() + ['iteration'])\n",
    "    t_w_df = pd.DataFrame(columns = train_data.columns)\n",
    "\n",
    "    for iteration in range(0,maximum_number_of_iterations):\n",
    "\n",
    "        for col_name in list_of_cols:\n",
    "            column_matching_df=  train_data_confidence.copy()\n",
    "            column_matching_df.loc[:,:]= 0\n",
    "            current_source =  train_data[col_name]\n",
    "\n",
    "            other_sources_cols = [x for x in list_of_cols if x != current_source.name]\n",
    "\n",
    "            column_matching_df[col_name] = 1\n",
    "            for col_name_others in other_sources_cols:\n",
    "                column_matching_df[col_name_others] = np.where(train_data[col_name_others]==current_source,1,-1)\n",
    "            column_matching_df[pd.isnull(train_data)]=0\n",
    "\n",
    "            for col_ii in range(0,column_matching_df.shape[1]):\n",
    "                column_matching_df.iloc[:,col_ii] = column_matching_df.iloc[:,col_ii] * tau_w[col_ii]\n",
    "\n",
    "            train_data_confidence[col_name]= np.where(pd.isnull(current_source),np.nan,1/(1 + np.exp( -1 * gamma * ( column_matching_df.sum(axis=1)  ) )))\n",
    "\n",
    "\n",
    "        ## maintaining record of the trusworthiness scores of websites\n",
    "        t_w_prev =  t_w.copy()\n",
    "        t_w_df.loc[iteration]= t_w\n",
    "        t_w = train_data_confidence.mean()\n",
    "        t_w [t_w >= max_t_w_value] = max_t_w_value\n",
    "        t_w_inv =  1- t_w\n",
    "        tau_w =  -np.log(t_w_inv)\n",
    "\n",
    "        ## printing itertion number and the trustworthiness score\n",
    "        print(iteration, np.array(t_w_prev))\n",
    "        if iteration > 5:\n",
    "            if np.nansum(np.abs(t_w.values - t_w_prev.values)) < minimum_absolute_difference:\n",
    "                break\n",
    "    \n",
    "    train_data_confidence[id_colname] =  data[id_colname]\n",
    "    \n",
    "    return(t_w_df,train_data_confidence )\n",
    "\n",
    "\n",
    "## Function to get the final confidence values from the source trustworthiness values \n",
    "def get_final_confidence(data,list_of_cols, column_to_check_confidence,t_w ,id_colname):\n",
    "    \n",
    "    \"\"\"\n",
    "    Arguments: \n",
    "        data : the table serving as input for the confidence algo \n",
    "        list_of_cols:  list of column names that serve as unique sources for the data points \n",
    "        column_to_check_confidence:  column for which final confidence needs to be calcuated \n",
    "        t_w: trustworthiness score for each source (final values from the iterations)\n",
    "        id_colname: colum with unqiue id values for each row\n",
    "        \n",
    "    Returned values: \n",
    "    data  : Table which returns the final confidence scores for the required columns    \n",
    "    \"\"\"\n",
    "        \n",
    "    train_data =  data[list_of_cols].copy()\n",
    "    \n",
    "    column_matching_df =  train_data.copy()\n",
    "    column_matching_df.loc[:,:]= 0\n",
    "    \n",
    "    if (np.isnan(t_w[0])):\n",
    "        t_w[0] = t_w[1]\n",
    "    if (np.isnan(t_w[1])):\n",
    "        t_w[1]= t_w[0]\n",
    "    \n",
    "    \n",
    "    ## calculating (1-t(w)). Carrying out calculation required for the equation\n",
    "    t_w_inv =  1- t_w\n",
    "    tau_w =  -np.log(t_w_inv)\n",
    "\n",
    "    current_source =  data[column_to_check_confidence]\n",
    "\n",
    "    other_sources_cols = [x for x in list_of_cols ]\n",
    "\n",
    "    for col_name_others in other_sources_cols:\n",
    "        column_matching_df[col_name_others] = np.where(train_data[col_name_others]==current_source,1,-1)\n",
    "    column_matching_df[pd.isnull(train_data)]=0\n",
    "\n",
    "    for col_ii in range(0,column_matching_df.shape[1]):\n",
    "        column_matching_df.iloc[:,col_ii] = column_matching_df.iloc[:,col_ii] * tau_w[col_ii]\n",
    "\n",
    "    final_conf_scores= np.where(pd.isnull(current_source),np.nan,1/(1 + np.exp( -1 * gamma * ( column_matching_df.sum(axis=1)  ) )))\n",
    "       \n",
    "\n",
    "    data['final_confidence'] = final_conf_scores\n",
    "\n",
    "    return(data)\n",
    "\n",
    "\n",
    "#%% "
   ]
  },
  {
   "cell_type": "code",
   "execution_count": 68,
   "id": "bc18aa64",
   "metadata": {},
   "outputs": [],
   "source": [
    "\n",
    "## reading the table with the SQL queries for downloading necessary tables \n",
    "codes_df = pd.read_csv(sql_repo_csv_location)\n",
    "codes_df_run = codes_df.loc[codes_df.Multiple_confidence_columns == 1,: ]"
   ]
  },
  {
   "cell_type": "code",
   "execution_count": 52,
   "id": "de053733",
   "metadata": {},
   "outputs": [
    {
     "name": "stdout",
     "output_type": "stream",
     "text": [
      "Table current : 0 \n",
      "\n",
      "Demographic Details_Farmer Occupation\n",
      "Table  Demographic Details_Farmer Occupation  does not exist\n",
      "Table current : 2 \n",
      "\n",
      "Demographic Details_Type of Crop Cultivator\n",
      "0 [0.5 0.5 0.5 0.5]\n",
      "1 [0.79786271 0.74654003 0.74416046 0.76224574]\n",
      "2 [0.95015719 0.86125633 0.85749835 0.89135778]\n",
      "3 [0.975      0.88999965 0.88841851 0.93327403]\n",
      "4 [0.975      0.88811192 0.89351388 0.94686792]\n",
      "5 [0.975      0.88117158 0.89672331 0.95491179]\n",
      "6 [0.975      0.87436484 0.90070085 0.96129831]\n",
      "7 [0.975      0.86841475 0.90493776 0.96668341]\n",
      "8 [0.975      0.86333544 0.90900284 0.97127623]\n",
      "9 [0.975      0.85902779 0.91270724 0.975     ]\n",
      "10 [0.975      0.85549413 0.91599603 0.975     ]\n",
      "11 [0.975      0.85431105 0.91884785 0.975     ]\n",
      "12 [0.975      0.85371034 0.92088276 0.975     ]\n",
      "13 [0.975      0.8533316  0.92229739 0.975     ]\n",
      "14 [0.975      0.85307458 0.92328266 0.975     ]\n",
      "Table current : 3 \n",
      "\n",
      "Demographic Details_Activities\n"
     ]
    },
    {
     "name": "stderr",
     "output_type": "stream",
     "text": [
      "<timed exec>:12: DtypeWarning: Columns (1) have mixed types. Specify dtype option on import or set low_memory=False.\n"
     ]
    },
    {
     "name": "stdout",
     "output_type": "stream",
     "text": [
      "0 [0.5 0.5 0.5 0.5]\n",
      "1 [       nan 0.5641782  0.62695185 0.53010552]\n",
      "2 [       nan 0.57573762 0.67446032 0.51687852]\n",
      "3 [       nan 0.57917438 0.69767004 0.50504116]\n",
      "4 [       nan 0.58065802 0.71043353 0.49783391]\n",
      "5 [       nan 0.58127742 0.7178572  0.49381342]\n",
      "6 [       nan 0.58141267 0.72234605 0.49170495]\n",
      "7 [       nan 0.58127207 0.72516277 0.4907102 ]\n",
      "8 [       nan 0.58098065 0.72700462 0.49035533]\n",
      "9 [       nan 0.58061312 0.72826734 0.49036214]\n",
      "10 [       nan 0.58021335 0.7291794  0.49056786]\n",
      "11 [       nan 0.57980665 0.7298743  0.49087755]\n",
      "12 [       nan 0.57940721 0.73043081 0.49123613]\n",
      "13 [       nan 0.5790227  0.73089589 0.49161191]\n",
      "14 [       nan 0.57865694 0.73129782 0.49198695]\n",
      "15 [       nan 0.57831155 0.73165391 0.49235137]\n",
      "Table current : 7 \n",
      "\n",
      "Demographic Details_Gender\n",
      "Table  Demographic Details_Gender  does not exist\n",
      "Table current : 11 \n",
      "\n",
      "Demographic Details_Social Category\n"
     ]
    },
    {
     "name": "stderr",
     "output_type": "stream",
     "text": [
      "<timed exec>:12: DtypeWarning: Columns (1) have mixed types. Specify dtype option on import or set low_memory=False.\n"
     ]
    },
    {
     "name": "stdout",
     "output_type": "stream",
     "text": [
      "0 [0.5 0.5 0.5]\n",
      "1 [0.73942068        nan 0.73942068]\n",
      "2 [0.84828995        nan 0.84828995]\n",
      "3 [0.88107941        nan 0.88107941]\n",
      "4 [0.88790548        nan 0.88790548]\n",
      "5 [0.88913102        nan 0.88913102]\n",
      "6 [0.88934377        nan 0.88934377]\n",
      "Table current : 13 \n",
      "\n",
      "Demographic Details_Primary Mobile number\n"
     ]
    },
    {
     "name": "stderr",
     "output_type": "stream",
     "text": [
      "<timed exec>:12: DtypeWarning: Columns (0,7) have mixed types. Specify dtype option on import or set low_memory=False.\n"
     ]
    },
    {
     "name": "stdout",
     "output_type": "stream",
     "text": [
      "0 [0.5 0.5 0.5 0.5 0.5]\n",
      "1 [0.78551455        nan 0.8007843  0.65       0.67528202]\n",
      "2 [0.93940969        nan 0.95888593 0.65506919 0.69572204]\n",
      "3 [0.975             nan 0.975      0.56447091 0.62751113]\n",
      "4 [0.975             nan 0.975      0.52175722 0.59414719]\n",
      "5 [0.975             nan 0.975      0.5189315  0.59205998]\n",
      "6 [0.975             nan 0.975      0.51875832 0.59193835]\n",
      "Table current : 17 \n",
      "\n",
      "Demographic Details_Farmer Type\n"
     ]
    },
    {
     "name": "stderr",
     "output_type": "stream",
     "text": [
      "<timed exec>:12: DtypeWarning: Columns (1) have mixed types. Specify dtype option on import or set low_memory=False.\n"
     ]
    },
    {
     "name": "stdout",
     "output_type": "stream",
     "text": [
      "0 [0.5 0.5 0.5 0.5]\n",
      "1 [0.79093448        nan 0.7917506  0.77701478]\n",
      "2 [0.94426773        nan 0.94563474 0.91797979]\n",
      "3 [0.975             nan 0.975      0.94807643]\n",
      "4 [0.975             nan 0.975      0.94472501]\n",
      "5 [0.975             nan 0.975      0.94357021]\n",
      "6 [0.975             nan 0.975      0.94319284]\n",
      "Table current : 19 \n",
      "\n",
      "Residential Address_District\n"
     ]
    },
    {
     "name": "stderr",
     "output_type": "stream",
     "text": [
      "<timed exec>:12: DtypeWarning: Columns (1) have mixed types. Specify dtype option on import or set low_memory=False.\n"
     ]
    },
    {
     "name": "stdout",
     "output_type": "stream",
     "text": [
      "0 [0.5 0.5 0.5 0.5]\n",
      "1 [0.75813739        nan 0.72329814 0.76916814]\n",
      "2 [0.88384327        nan 0.81526239 0.90199162]\n",
      "3 [0.92202664        nan 0.82484379 0.94240826]\n",
      "4 [0.93011911        nan 0.81031316 0.95189476]\n",
      "5 [0.93195517        nan 0.80066925 0.95467637]\n",
      "6 [0.93235751        nan 0.79668671 0.95574731]\n",
      "7 [0.93233968        nan 0.79531395 0.95627539]\n",
      "Table current : 20 \n",
      "\n",
      "Residential Address_Block,NAC,ULB\n"
     ]
    },
    {
     "name": "stderr",
     "output_type": "stream",
     "text": [
      "<timed exec>:12: DtypeWarning: Columns (1) have mixed types. Specify dtype option on import or set low_memory=False.\n"
     ]
    },
    {
     "name": "stdout",
     "output_type": "stream",
     "text": [
      "0 [0.5 0.5 0.5 0.5]\n",
      "1 [0.79032415        nan 0.84726618 0.79053172]\n",
      "2 [0.94214425        nan 0.97157611 0.94255525]\n",
      "3 [0.975   nan 0.975 0.975]\n",
      "4 [0.975   nan 0.975 0.975]\n",
      "5 [0.975   nan 0.975 0.975]\n",
      "6 [0.975   nan 0.975 0.975]\n",
      "Table current : 21 \n",
      "\n",
      "Residential Address_Gram Panchayat,Ward\n"
     ]
    },
    {
     "name": "stderr",
     "output_type": "stream",
     "text": [
      "<timed exec>:12: DtypeWarning: Columns (1) have mixed types. Specify dtype option on import or set low_memory=False.\n"
     ]
    },
    {
     "name": "stdout",
     "output_type": "stream",
     "text": [
      "0 [0.5 0.5 0.5 0.5]\n",
      "1 [0.69505362        nan 0.76097598 0.69623137]\n",
      "2 [0.76892512        nan 0.86396944 0.77180035]\n",
      "3 [0.79023789        nan 0.90292048 0.79521996]\n",
      "4 [0.79479351        nan 0.92070096 0.80206648]\n",
      "5 [0.79502983        nan 0.93066295 0.8045451 ]\n",
      "6 [0.79430046        nan 0.93703605 0.80589137]\n",
      "7 [0.79342863        nan 0.94144127 0.80689204]\n",
      "8 [0.7926051         nan 0.94463742 0.80773741]\n",
      "9 [0.79186722        nan 0.94703585 0.80847766]\n",
      "10 [0.79121581        nan 0.94888196 0.80913062]\n",
      "11 [0.79064355        nan 0.95033182 0.8097066 ]\n",
      "12 [0.7901418         nan 0.9514893  0.81021395]\n",
      "13 [0.78970235        nan 0.952426   0.81066019]\n",
      "14 [0.78931769        nan 0.9531927  0.81105219]\n",
      "15 [0.78898115        nan 0.95382632 0.8113962 ]\n",
      "16 [0.78868682        nan 0.95435422 0.81169785]\n",
      "Table current : 22 \n",
      "\n",
      "Residential Address_Village\n"
     ]
    },
    {
     "name": "stderr",
     "output_type": "stream",
     "text": [
      "<timed exec>:12: DtypeWarning: Columns (1) have mixed types. Specify dtype option on import or set low_memory=False.\n"
     ]
    },
    {
     "name": "stdout",
     "output_type": "stream",
     "text": [
      "0 [0.5 0.5 0.5 0.5 0.5]\n",
      "1 [0.65000644        nan 0.66681943 0.65056075 0.33698366]\n",
      "2 [0.70258272        nan 0.71822601 0.70354562 0.16017125]\n",
      "3 [0.71979395        nan 0.73152726 0.72111095 0.09900603]\n",
      "4 [0.72483042        nan 0.73387211 0.72647397 0.0836166 ]\n",
      "5 [0.72616029        nan 0.73376136 0.72809413 0.07965659]\n",
      "6 [0.7264464         nan 0.73337279 0.72863169 0.07859349]\n",
      "Table current : 31 \n",
      "\n",
      "Crop Production Details_District\n"
     ]
    },
    {
     "name": "stderr",
     "output_type": "stream",
     "text": [
      "<timed exec>:12: DtypeWarning: Columns (1,9) have mixed types. Specify dtype option on import or set low_memory=False.\n"
     ]
    },
    {
     "name": "stdout",
     "output_type": "stream",
     "text": [
      "0 [0.5 0.5 0.5 0.5]\n",
      "1 [0.49987719        nan 0.50210584 0.5001022 ]\n",
      "2 [0.49971824        nan 0.50322096 0.50021526]\n",
      "3 [0.49955892        nan 0.50386044 0.50035155]\n",
      "4 [0.49939937        nan 0.50426209 0.50049949]\n",
      "5 [0.49923967        nan 0.50454457 0.50065332]\n",
      "6 [0.49907986        nan 0.50476726 0.50081013]\n",
      "Table current : 32 \n",
      "\n",
      "Crop Production Details_Tehsil\n"
     ]
    },
    {
     "name": "stderr",
     "output_type": "stream",
     "text": [
      "<timed exec>:12: DtypeWarning: Columns (1,8) have mixed types. Specify dtype option on import or set low_memory=False.\n"
     ]
    },
    {
     "name": "stdout",
     "output_type": "stream",
     "text": [
      "0 [0.5 0.5 0.5]\n",
      "1 [0.5 nan 0.5]\n",
      "2 [0.5 nan 0.5]\n",
      "3 [0.5 nan 0.5]\n",
      "4 [0.5 nan 0.5]\n",
      "5 [0.5 nan 0.5]\n",
      "6 [0.5 nan 0.5]\n",
      "Table current : 34 \n",
      "\n",
      "Crop Production Details_Village\n",
      "0 [0.5 0.5 0.5 0.5]\n",
      "1 [nan nan nan nan]\n",
      "2 [nan nan nan nan]\n",
      "3 [nan nan nan nan]\n",
      "4 [nan nan nan nan]\n",
      "5 [nan nan nan nan]\n",
      "6 [nan nan nan nan]\n",
      "Table current : 35 \n",
      "\n",
      "Crop Production Details_Khata No\n"
     ]
    },
    {
     "name": "stderr",
     "output_type": "stream",
     "text": [
      "<timed exec>:12: DtypeWarning: Columns (1) have mixed types. Specify dtype option on import or set low_memory=False.\n"
     ]
    },
    {
     "name": "stdout",
     "output_type": "stream",
     "text": [
      "0 [0.5 0.5 0.5 0.5]\n",
      "1 [0.80004548        nan 0.8012766  0.80005433]\n",
      "2 [0.96155891        nan 0.9620546  0.96155851]\n",
      "3 [0.975   nan 0.975 0.975]\n",
      "4 [0.975   nan 0.975 0.975]\n",
      "5 [0.975   nan 0.975 0.975]\n",
      "6 [0.975   nan 0.975 0.975]\n",
      "Table current : 36 \n",
      "\n",
      "Crop Production Details_Plot No\n"
     ]
    },
    {
     "name": "stderr",
     "output_type": "stream",
     "text": [
      "<timed exec>:12: DtypeWarning: Columns (1) have mixed types. Specify dtype option on import or set low_memory=False.\n"
     ]
    },
    {
     "name": "stdout",
     "output_type": "stream",
     "text": [
      "0 [0.5 0.5 0.5 0.5]\n",
      "1 [0.8000163         nan 0.80210996 0.80001941]\n",
      "2 [0.9615168         nan 0.96251356 0.96151133]\n",
      "3 [0.975   nan 0.975 0.975]\n",
      "4 [0.975   nan 0.975 0.975]\n",
      "5 [0.975   nan 0.975 0.975]\n",
      "6 [0.975   nan 0.975 0.975]\n",
      "Table current : 40 \n",
      "\n",
      "Crop Production Details_Farmer Area under Cultivation (Acres)\n"
     ]
    },
    {
     "name": "stderr",
     "output_type": "stream",
     "text": [
      "<timed exec>:12: DtypeWarning: Columns (1) have mixed types. Specify dtype option on import or set low_memory=False.\n"
     ]
    },
    {
     "name": "stdout",
     "output_type": "stream",
     "text": [
      "0 [0.5 0.5 0.5 0.5]\n",
      "1 [0.80004548        nan 0.8012766  0.80005433]\n",
      "2 [0.96155891        nan 0.9620546  0.96155851]\n",
      "3 [0.975   nan 0.975 0.975]\n",
      "4 [0.975   nan 0.975 0.975]\n",
      "5 [0.975   nan 0.975 0.975]\n",
      "6 [0.975   nan 0.975 0.975]\n",
      "Table current : 47 \n",
      "\n",
      "Crop Production Details_Access to Irrigation\n",
      "Table  Crop Production Details_Access to Irrigation  does not exist\n",
      "Table current : 49 \n",
      "\n",
      "Crop Production Details_Farm Equipment,Implements\n",
      "Table  Crop Production Details_Farm Equipment,Implements  does not exist\n",
      "CPU times: total: 15min 16s\n",
      "Wall time: 18min 14s\n"
     ]
    }
   ],
   "source": [
    "%%time\n",
    "for table_no in codes_df_run.index:\n",
    "    print('Table current :',  table_no , '\\n')\n",
    "    string  = codes_df.loc[table_no,'SQL Code']\n",
    "    string = string.replace('\\n',\" \")\n",
    "    string = string.replace('\\t',\" \")\n",
    "    columns = codes_df.loc[table_no,'Columns_list']\n",
    "    list_of_cols = np.array(columns.split (\",\"))\n",
    "    table_name_str  = codes_df.loc[table_no,'Parent Label']+'_'+ codes_df.loc[table_no,'Field Name']\n",
    "    print(table_name_str)\n",
    "    \n",
    "    try:\n",
    "        df = pd.read_csv(sql_folder_location + table_name_str + '.csv')\n",
    "        \n",
    "        df['id'] = df.index\n",
    "        df['Krushak_Odisha'] = df.field.combine_first(df.self)\n",
    "        no_cols =  len(list_of_cols)\n",
    "        t_w = np.repeat(0.5,no_cols)\n",
    "        id_colname = 'id'\n",
    "        \n",
    "        t_w_df,train_data_confidence = carry_out_iterations( df,list_of_cols,t_w,id_colname, gamma)\n",
    "\n",
    "        column_to_check_confidence = 'Krushak_Odisha'\n",
    "\n",
    "        data_copy = get_final_confidence(df, list_of_cols, column_to_check_confidence,t_w_df.loc[t_w_df.shape[0]-1,:] ,id_colname)\n",
    "\n",
    "        conf_table = data_copy[['Krushak_Odisha','int_krushk_id','final_confidence']]\n",
    "\n",
    "        conf_table.to_csv( save_location + table_name_str+str(table_no)+'.csv', encoding = \"utf-8\")\n",
    "        \n",
    "    except :\n",
    "        print('Table ',table_name_str, ' does not exist')\n",
    "    \n",
    "    "
   ]
  }
 ],
 "metadata": {
  "kernelspec": {
   "display_name": "Python 3 (ipykernel)",
   "language": "python",
   "name": "python3"
  },
  "language_info": {
   "codemirror_mode": {
    "name": "ipython",
    "version": 3
   },
   "file_extension": ".py",
   "mimetype": "text/x-python",
   "name": "python",
   "nbconvert_exporter": "python",
   "pygments_lexer": "ipython3",
   "version": "3.9.12"
  },
  "toc": {
   "base_numbering": 1,
   "nav_menu": {},
   "number_sections": true,
   "sideBar": true,
   "skip_h1_title": false,
   "title_cell": "Table of Contents",
   "title_sidebar": "Contents",
   "toc_cell": false,
   "toc_position": {},
   "toc_section_display": true,
   "toc_window_display": false
  },
  "varInspector": {
   "cols": {
    "lenName": 16,
    "lenType": 16,
    "lenVar": 40
   },
   "kernels_config": {
    "python": {
     "delete_cmd_postfix": "",
     "delete_cmd_prefix": "del ",
     "library": "var_list.py",
     "varRefreshCmd": "print(var_dic_list())"
    },
    "r": {
     "delete_cmd_postfix": ") ",
     "delete_cmd_prefix": "rm(",
     "library": "var_list.r",
     "varRefreshCmd": "cat(var_dic_list()) "
    }
   },
   "types_to_exclude": [
    "module",
    "function",
    "builtin_function_or_method",
    "instance",
    "_Feature"
   ],
   "window_display": false
  }
 },
 "nbformat": 4,
 "nbformat_minor": 5
}
