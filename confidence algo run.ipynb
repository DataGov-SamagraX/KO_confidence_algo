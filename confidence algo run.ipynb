{
 "cells": [
  {
   "cell_type": "code",
   "execution_count": 109,
   "id": "4604ecf8",
   "metadata": {},
   "outputs": [],
   "source": [
    "import numpy as np\n",
    "import pandas as pd\n",
    "import mysql.connector\n",
    "import os\n",
    "from dotenv import load_dotenv\n",
    "from pathlib import Path\n",
    "\n",
    "# dotenv_path = Path('.env')\n",
    "# load_dotenv(dotenv_path=dotenv_path)\n",
    "\n",
    "#%%  Declaring all the variables\n",
    "\n",
    "\n",
    "# ## setting the maximum confidence a source can have: \n",
    "# maximum_confidence_value = float(os.getenv('maximum_confidence_value'))\n",
    "\n",
    "# ## setting  the maximum number of iterations in the algo: \n",
    "# maximum_number_of_iterations =  float(os.getenv('maximum_number_of_iterations'))\n",
    "\n",
    "# ## setting the minimum differnce in the trustworthiness scores to be reached to end the algo\n",
    "# minimum_absolute_difference =  float(os.getenv('minimum_absolute_difference'))\n",
    "\n",
    "\n",
    "\n",
    "#%% Pre-defined variables\n",
    "\n",
    "## Function to carry out the iterations of confidence algo \n",
    "def carry_out_iterations( data,list_of_cols,t_w,id_colname,gamma): \n",
    "    \n",
    "    \"\"\"\n",
    "    Arguments: \n",
    "        data : the table serving as input for the confidence algo \n",
    "        list_of_cols:  list of column names that serve as unique sources for the data points \n",
    "        t_w:  array of initial confidence values (source trustworthiness) for each source. Usually set to 0.5 for each source\n",
    "        id_colname: Column name with unique id value for each row\n",
    "        \n",
    "    Returned values: \n",
    "    t_w_df : table with the changing source trustworthiness with each iteration\n",
    "    train_data_confidence : Final table with the final confidence values for each data point for each source\n",
    "    \n",
    "    \"\"\"\n",
    "        \n",
    "    \n",
    "    max_t_w_value =  0.975\n",
    "    train_data =  data[list_of_cols].copy()\n",
    "    \n",
    "    train_data = train_data.loc[np.sum(~train_data.isna(),axis = 1) > 1,:]\n",
    "    ## creating empty data frame with same structure as traindata to copy confidence scores \n",
    "    \n",
    "    train_data_confidence =  train_data.copy()\n",
    "    train_data_confidence.loc[:,:]= 0\n",
    "\n",
    "    ## calculating (1-t(w)). Carrying out calculation required for the equation\n",
    "    t_w_inv =  1- t_w\n",
    "    tau_w =  -np.log(t_w_inv)\n",
    "\n",
    "    ## creating dataframe that maintains list of confidence values through each iteration\n",
    "    confidence_iterations = pd.DataFrame(columns =train_data.columns.tolist() + ['iteration'])\n",
    "    t_w_df = pd.DataFrame(columns = train_data.columns)\n",
    "\n",
    "    for iteration in range(0,100):\n",
    "\n",
    "        for col_name in list_of_cols:\n",
    "            column_matching_df=  train_data_confidence.copy()\n",
    "            column_matching_df.loc[:,:]= 0\n",
    "            current_source =  train_data[col_name]\n",
    "\n",
    "            other_sources_cols = [x for x in list_of_cols if x != current_source.name]\n",
    "\n",
    "            column_matching_df[col_name] = 1\n",
    "            for col_name_others in other_sources_cols:\n",
    "                column_matching_df[col_name_others] = np.where(train_data[col_name_others]==current_source,1,-1)\n",
    "            column_matching_df[pd.isnull(train_data)]=0\n",
    "\n",
    "            for col_ii in range(0,column_matching_df.shape[1]):\n",
    "                column_matching_df.iloc[:,col_ii] = column_matching_df.iloc[:,col_ii] * tau_w[col_ii]\n",
    "\n",
    "            train_data_confidence[col_name]= np.where(pd.isnull(current_source),np.nan,1/(1 + np.exp( -1 * gamma * ( column_matching_df.sum(axis=1)  ) )))\n",
    "\n",
    "\n",
    "        ## maintaining record of the trusworthiness scores of websites\n",
    "        t_w_prev =  t_w.copy()\n",
    "        t_w_df.loc[iteration]= t_w\n",
    "        t_w = train_data_confidence.mean()\n",
    "        t_w [t_w >= max_t_w_value] = max_t_w_value\n",
    "        t_w_inv =  1- t_w\n",
    "        tau_w =  -np.log(t_w_inv)\n",
    "\n",
    "        ## printing itertion number and the trustworthiness score\n",
    "        print(iteration, np.array(t_w_prev))\n",
    "        if iteration > 5:\n",
    "            if np.nansum(np.abs(t_w.values - t_w_prev.values)) < 0.001:\n",
    "                break\n",
    "    \n",
    "    train_data_confidence[id_colname] =  data[id_colname]\n",
    "    \n",
    "    return(t_w_df,train_data_confidence )\n",
    "\n",
    "\n",
    "## Function to get the final confidence values from the source trustworthiness values \n",
    "def get_final_confidence(data,list_of_cols, column_to_check_confidence,t_w ,id_colname):\n",
    "    \n",
    "    \"\"\"\n",
    "    Arguments: \n",
    "        data : the table serving as input for the confidence algo \n",
    "        list_of_cols:  list of column names that serve as unique sources for the data points \n",
    "        column_to_check_confidence:  column for which final confidence needs to be calcuated \n",
    "        t_w: trustworthiness score for each source (final values from the iterations)\n",
    "        id_colname: colum with unqiue id values for each row\n",
    "        \n",
    "    Returned values: \n",
    "    data  : Table which returns the final confidence scores for the required columns    \n",
    "    \"\"\"\n",
    "        \n",
    "    train_data =  data[list_of_cols].copy()\n",
    "    \n",
    "    column_matching_df =  train_data.copy()\n",
    "    column_matching_df.loc[:,:]= 0\n",
    "    \n",
    "    if (np.isnan(t_w[0])):\n",
    "        t_w[0] = t_w[1]\n",
    "    if (np.isnan(t_w[1])):\n",
    "        t_w[1]= t_w[0]\n",
    "    \n",
    "    \n",
    "    ## calculating (1-t(w)). Carrying out calculation required for the equation\n",
    "    t_w_inv =  1- t_w\n",
    "    tau_w =  -np.log(t_w_inv)\n",
    "\n",
    "    current_source =  data[column_to_check_confidence]\n",
    "\n",
    "    other_sources_cols = [x for x in list_of_cols ]\n",
    "\n",
    "    for col_name_others in other_sources_cols:\n",
    "        column_matching_df[col_name_others] = np.where(train_data[col_name_others]==current_source,1,-1)\n",
    "    column_matching_df[pd.isnull(train_data)]=0\n",
    "\n",
    "    for col_ii in range(0,column_matching_df.shape[1]):\n",
    "        column_matching_df.iloc[:,col_ii] = column_matching_df.iloc[:,col_ii] * tau_w[col_ii]\n",
    "\n",
    "    final_conf_scores= np.where(pd.isnull(current_source),np.nan,1/(1 + np.exp( -1 * gamma * ( column_matching_df.sum(axis=1)  ) )))\n",
    "       \n",
    "\n",
    "    data['final_confidence'] = final_conf_scores\n",
    "\n",
    "    return(data)\n",
    "\n",
    "\n",
    "#%% "
   ]
  },
  {
   "cell_type": "code",
   "execution_count": 67,
   "id": "ac488aef",
   "metadata": {},
   "outputs": [],
   "source": [
    "\n",
    "## locations where the files with confidence scores need to be saved\n",
    "save_location = 'confidence_results/'\n",
    "\n",
    "## csv file with the SQL code repo\n",
    "sql_repo_csv_location =  'sql_code_repo_v5.csv'"
   ]
  },
  {
   "cell_type": "code",
   "execution_count": 68,
   "id": "bc18aa64",
   "metadata": {},
   "outputs": [],
   "source": [
    "\n",
    "## reading the table with the SQL queries for downloading necessary tables \n",
    "codes_df = pd.read_csv(sql_repo_csv_location)\n",
    "codes_df_run = codes_df.loc[codes_df.Multiple_confidence_columns == 1,: ]"
   ]
  },
  {
   "cell_type": "code",
   "execution_count": 69,
   "id": "482b3231",
   "metadata": {},
   "outputs": [],
   "source": [
    "sql_folder_location =  'SQL_dump/'"
   ]
  },
  {
   "cell_type": "code",
   "execution_count": 52,
   "id": "de053733",
   "metadata": {},
   "outputs": [
    {
     "name": "stdout",
     "output_type": "stream",
     "text": [
      "Table current : 0 \n",
      "\n",
      "Demographic Details_Farmer Occupation\n",
      "Table  Demographic Details_Farmer Occupation  does not exist\n",
      "Table current : 2 \n",
      "\n",
      "Demographic Details_Type of Crop Cultivator\n",
      "0 [0.5 0.5 0.5 0.5]\n",
      "1 [0.79786271 0.74654003 0.74416046 0.76224574]\n",
      "2 [0.95015719 0.86125633 0.85749835 0.89135778]\n",
      "3 [0.975      0.88999965 0.88841851 0.93327403]\n",
      "4 [0.975      0.88811192 0.89351388 0.94686792]\n",
      "5 [0.975      0.88117158 0.89672331 0.95491179]\n",
      "6 [0.975      0.87436484 0.90070085 0.96129831]\n",
      "7 [0.975      0.86841475 0.90493776 0.96668341]\n",
      "8 [0.975      0.86333544 0.90900284 0.97127623]\n",
      "9 [0.975      0.85902779 0.91270724 0.975     ]\n",
      "10 [0.975      0.85549413 0.91599603 0.975     ]\n",
      "11 [0.975      0.85431105 0.91884785 0.975     ]\n",
      "12 [0.975      0.85371034 0.92088276 0.975     ]\n",
      "13 [0.975      0.8533316  0.92229739 0.975     ]\n",
      "14 [0.975      0.85307458 0.92328266 0.975     ]\n",
      "Table current : 3 \n",
      "\n",
      "Demographic Details_Activities\n"
     ]
    },
    {
     "name": "stderr",
     "output_type": "stream",
     "text": [
      "<timed exec>:12: DtypeWarning: Columns (1) have mixed types. Specify dtype option on import or set low_memory=False.\n"
     ]
    },
    {
     "name": "stdout",
     "output_type": "stream",
     "text": [
      "0 [0.5 0.5 0.5 0.5]\n",
      "1 [       nan 0.5641782  0.62695185 0.53010552]\n",
      "2 [       nan 0.57573762 0.67446032 0.51687852]\n",
      "3 [       nan 0.57917438 0.69767004 0.50504116]\n",
      "4 [       nan 0.58065802 0.71043353 0.49783391]\n",
      "5 [       nan 0.58127742 0.7178572  0.49381342]\n",
      "6 [       nan 0.58141267 0.72234605 0.49170495]\n",
      "7 [       nan 0.58127207 0.72516277 0.4907102 ]\n",
      "8 [       nan 0.58098065 0.72700462 0.49035533]\n",
      "9 [       nan 0.58061312 0.72826734 0.49036214]\n",
      "10 [       nan 0.58021335 0.7291794  0.49056786]\n",
      "11 [       nan 0.57980665 0.7298743  0.49087755]\n",
      "12 [       nan 0.57940721 0.73043081 0.49123613]\n",
      "13 [       nan 0.5790227  0.73089589 0.49161191]\n",
      "14 [       nan 0.57865694 0.73129782 0.49198695]\n",
      "15 [       nan 0.57831155 0.73165391 0.49235137]\n",
      "Table current : 7 \n",
      "\n",
      "Demographic Details_Gender\n",
      "Table  Demographic Details_Gender  does not exist\n",
      "Table current : 11 \n",
      "\n",
      "Demographic Details_Social Category\n"
     ]
    },
    {
     "name": "stderr",
     "output_type": "stream",
     "text": [
      "<timed exec>:12: DtypeWarning: Columns (1) have mixed types. Specify dtype option on import or set low_memory=False.\n"
     ]
    },
    {
     "name": "stdout",
     "output_type": "stream",
     "text": [
      "0 [0.5 0.5 0.5]\n",
      "1 [0.73942068        nan 0.73942068]\n",
      "2 [0.84828995        nan 0.84828995]\n",
      "3 [0.88107941        nan 0.88107941]\n",
      "4 [0.88790548        nan 0.88790548]\n",
      "5 [0.88913102        nan 0.88913102]\n",
      "6 [0.88934377        nan 0.88934377]\n",
      "Table current : 13 \n",
      "\n",
      "Demographic Details_Primary Mobile number\n"
     ]
    },
    {
     "name": "stderr",
     "output_type": "stream",
     "text": [
      "<timed exec>:12: DtypeWarning: Columns (0,7) have mixed types. Specify dtype option on import or set low_memory=False.\n"
     ]
    },
    {
     "name": "stdout",
     "output_type": "stream",
     "text": [
      "0 [0.5 0.5 0.5 0.5 0.5]\n",
      "1 [0.78551455        nan 0.8007843  0.65       0.67528202]\n",
      "2 [0.93940969        nan 0.95888593 0.65506919 0.69572204]\n",
      "3 [0.975             nan 0.975      0.56447091 0.62751113]\n",
      "4 [0.975             nan 0.975      0.52175722 0.59414719]\n",
      "5 [0.975             nan 0.975      0.5189315  0.59205998]\n",
      "6 [0.975             nan 0.975      0.51875832 0.59193835]\n",
      "Table current : 17 \n",
      "\n",
      "Demographic Details_Farmer Type\n"
     ]
    },
    {
     "name": "stderr",
     "output_type": "stream",
     "text": [
      "<timed exec>:12: DtypeWarning: Columns (1) have mixed types. Specify dtype option on import or set low_memory=False.\n"
     ]
    },
    {
     "name": "stdout",
     "output_type": "stream",
     "text": [
      "0 [0.5 0.5 0.5 0.5]\n",
      "1 [0.79093448        nan 0.7917506  0.77701478]\n",
      "2 [0.94426773        nan 0.94563474 0.91797979]\n",
      "3 [0.975             nan 0.975      0.94807643]\n",
      "4 [0.975             nan 0.975      0.94472501]\n",
      "5 [0.975             nan 0.975      0.94357021]\n",
      "6 [0.975             nan 0.975      0.94319284]\n",
      "Table current : 19 \n",
      "\n",
      "Residential Address_District\n"
     ]
    },
    {
     "name": "stderr",
     "output_type": "stream",
     "text": [
      "<timed exec>:12: DtypeWarning: Columns (1) have mixed types. Specify dtype option on import or set low_memory=False.\n"
     ]
    },
    {
     "name": "stdout",
     "output_type": "stream",
     "text": [
      "0 [0.5 0.5 0.5 0.5]\n",
      "1 [0.75813739        nan 0.72329814 0.76916814]\n",
      "2 [0.88384327        nan 0.81526239 0.90199162]\n",
      "3 [0.92202664        nan 0.82484379 0.94240826]\n",
      "4 [0.93011911        nan 0.81031316 0.95189476]\n",
      "5 [0.93195517        nan 0.80066925 0.95467637]\n",
      "6 [0.93235751        nan 0.79668671 0.95574731]\n",
      "7 [0.93233968        nan 0.79531395 0.95627539]\n",
      "Table current : 20 \n",
      "\n",
      "Residential Address_Block,NAC,ULB\n"
     ]
    },
    {
     "name": "stderr",
     "output_type": "stream",
     "text": [
      "<timed exec>:12: DtypeWarning: Columns (1) have mixed types. Specify dtype option on import or set low_memory=False.\n"
     ]
    },
    {
     "name": "stdout",
     "output_type": "stream",
     "text": [
      "0 [0.5 0.5 0.5 0.5]\n",
      "1 [0.79032415        nan 0.84726618 0.79053172]\n",
      "2 [0.94214425        nan 0.97157611 0.94255525]\n",
      "3 [0.975   nan 0.975 0.975]\n",
      "4 [0.975   nan 0.975 0.975]\n",
      "5 [0.975   nan 0.975 0.975]\n",
      "6 [0.975   nan 0.975 0.975]\n",
      "Table current : 21 \n",
      "\n",
      "Residential Address_Gram Panchayat,Ward\n"
     ]
    },
    {
     "name": "stderr",
     "output_type": "stream",
     "text": [
      "<timed exec>:12: DtypeWarning: Columns (1) have mixed types. Specify dtype option on import or set low_memory=False.\n"
     ]
    },
    {
     "name": "stdout",
     "output_type": "stream",
     "text": [
      "0 [0.5 0.5 0.5 0.5]\n",
      "1 [0.69505362        nan 0.76097598 0.69623137]\n",
      "2 [0.76892512        nan 0.86396944 0.77180035]\n",
      "3 [0.79023789        nan 0.90292048 0.79521996]\n",
      "4 [0.79479351        nan 0.92070096 0.80206648]\n",
      "5 [0.79502983        nan 0.93066295 0.8045451 ]\n",
      "6 [0.79430046        nan 0.93703605 0.80589137]\n",
      "7 [0.79342863        nan 0.94144127 0.80689204]\n",
      "8 [0.7926051         nan 0.94463742 0.80773741]\n",
      "9 [0.79186722        nan 0.94703585 0.80847766]\n",
      "10 [0.79121581        nan 0.94888196 0.80913062]\n",
      "11 [0.79064355        nan 0.95033182 0.8097066 ]\n",
      "12 [0.7901418         nan 0.9514893  0.81021395]\n",
      "13 [0.78970235        nan 0.952426   0.81066019]\n",
      "14 [0.78931769        nan 0.9531927  0.81105219]\n",
      "15 [0.78898115        nan 0.95382632 0.8113962 ]\n",
      "16 [0.78868682        nan 0.95435422 0.81169785]\n",
      "Table current : 22 \n",
      "\n",
      "Residential Address_Village\n"
     ]
    },
    {
     "name": "stderr",
     "output_type": "stream",
     "text": [
      "<timed exec>:12: DtypeWarning: Columns (1) have mixed types. Specify dtype option on import or set low_memory=False.\n"
     ]
    },
    {
     "name": "stdout",
     "output_type": "stream",
     "text": [
      "0 [0.5 0.5 0.5 0.5 0.5]\n",
      "1 [0.65000644        nan 0.66681943 0.65056075 0.33698366]\n",
      "2 [0.70258272        nan 0.71822601 0.70354562 0.16017125]\n",
      "3 [0.71979395        nan 0.73152726 0.72111095 0.09900603]\n",
      "4 [0.72483042        nan 0.73387211 0.72647397 0.0836166 ]\n",
      "5 [0.72616029        nan 0.73376136 0.72809413 0.07965659]\n",
      "6 [0.7264464         nan 0.73337279 0.72863169 0.07859349]\n",
      "Table current : 31 \n",
      "\n",
      "Crop Production Details_District\n"
     ]
    },
    {
     "name": "stderr",
     "output_type": "stream",
     "text": [
      "<timed exec>:12: DtypeWarning: Columns (1,9) have mixed types. Specify dtype option on import or set low_memory=False.\n"
     ]
    },
    {
     "name": "stdout",
     "output_type": "stream",
     "text": [
      "0 [0.5 0.5 0.5 0.5]\n",
      "1 [0.49987719        nan 0.50210584 0.5001022 ]\n",
      "2 [0.49971824        nan 0.50322096 0.50021526]\n",
      "3 [0.49955892        nan 0.50386044 0.50035155]\n",
      "4 [0.49939937        nan 0.50426209 0.50049949]\n",
      "5 [0.49923967        nan 0.50454457 0.50065332]\n",
      "6 [0.49907986        nan 0.50476726 0.50081013]\n",
      "Table current : 32 \n",
      "\n",
      "Crop Production Details_Tehsil\n"
     ]
    },
    {
     "name": "stderr",
     "output_type": "stream",
     "text": [
      "<timed exec>:12: DtypeWarning: Columns (1,8) have mixed types. Specify dtype option on import or set low_memory=False.\n"
     ]
    },
    {
     "name": "stdout",
     "output_type": "stream",
     "text": [
      "0 [0.5 0.5 0.5]\n",
      "1 [0.5 nan 0.5]\n",
      "2 [0.5 nan 0.5]\n",
      "3 [0.5 nan 0.5]\n",
      "4 [0.5 nan 0.5]\n",
      "5 [0.5 nan 0.5]\n",
      "6 [0.5 nan 0.5]\n",
      "Table current : 34 \n",
      "\n",
      "Crop Production Details_Village\n",
      "0 [0.5 0.5 0.5 0.5]\n",
      "1 [nan nan nan nan]\n",
      "2 [nan nan nan nan]\n",
      "3 [nan nan nan nan]\n",
      "4 [nan nan nan nan]\n",
      "5 [nan nan nan nan]\n",
      "6 [nan nan nan nan]\n",
      "Table current : 35 \n",
      "\n",
      "Crop Production Details_Khata No\n"
     ]
    },
    {
     "name": "stderr",
     "output_type": "stream",
     "text": [
      "<timed exec>:12: DtypeWarning: Columns (1) have mixed types. Specify dtype option on import or set low_memory=False.\n"
     ]
    },
    {
     "name": "stdout",
     "output_type": "stream",
     "text": [
      "0 [0.5 0.5 0.5 0.5]\n",
      "1 [0.80004548        nan 0.8012766  0.80005433]\n",
      "2 [0.96155891        nan 0.9620546  0.96155851]\n",
      "3 [0.975   nan 0.975 0.975]\n",
      "4 [0.975   nan 0.975 0.975]\n",
      "5 [0.975   nan 0.975 0.975]\n",
      "6 [0.975   nan 0.975 0.975]\n",
      "Table current : 36 \n",
      "\n",
      "Crop Production Details_Plot No\n"
     ]
    },
    {
     "name": "stderr",
     "output_type": "stream",
     "text": [
      "<timed exec>:12: DtypeWarning: Columns (1) have mixed types. Specify dtype option on import or set low_memory=False.\n"
     ]
    },
    {
     "name": "stdout",
     "output_type": "stream",
     "text": [
      "0 [0.5 0.5 0.5 0.5]\n",
      "1 [0.8000163         nan 0.80210996 0.80001941]\n",
      "2 [0.9615168         nan 0.96251356 0.96151133]\n",
      "3 [0.975   nan 0.975 0.975]\n",
      "4 [0.975   nan 0.975 0.975]\n",
      "5 [0.975   nan 0.975 0.975]\n",
      "6 [0.975   nan 0.975 0.975]\n",
      "Table current : 40 \n",
      "\n",
      "Crop Production Details_Farmer Area under Cultivation (Acres)\n"
     ]
    },
    {
     "name": "stderr",
     "output_type": "stream",
     "text": [
      "<timed exec>:12: DtypeWarning: Columns (1) have mixed types. Specify dtype option on import or set low_memory=False.\n"
     ]
    },
    {
     "name": "stdout",
     "output_type": "stream",
     "text": [
      "0 [0.5 0.5 0.5 0.5]\n",
      "1 [0.80004548        nan 0.8012766  0.80005433]\n",
      "2 [0.96155891        nan 0.9620546  0.96155851]\n",
      "3 [0.975   nan 0.975 0.975]\n",
      "4 [0.975   nan 0.975 0.975]\n",
      "5 [0.975   nan 0.975 0.975]\n",
      "6 [0.975   nan 0.975 0.975]\n",
      "Table current : 47 \n",
      "\n",
      "Crop Production Details_Access to Irrigation\n",
      "Table  Crop Production Details_Access to Irrigation  does not exist\n",
      "Table current : 49 \n",
      "\n",
      "Crop Production Details_Farm Equipment,Implements\n",
      "Table  Crop Production Details_Farm Equipment,Implements  does not exist\n",
      "CPU times: total: 15min 16s\n",
      "Wall time: 18min 14s\n"
     ]
    }
   ],
   "source": [
    "%%time\n",
    "for table_no in codes_df_run.index:\n",
    "    print('Table current :',  table_no , '\\n')\n",
    "    string  = codes_df.loc[table_no,'SQL Code']\n",
    "    string = string.replace('\\n',\" \")\n",
    "    string = string.replace('\\t',\" \")\n",
    "    columns = codes_df.loc[table_no,'Columns_list']\n",
    "    list_of_cols = np.array(columns.split (\",\"))\n",
    "    table_name_str  = codes_df.loc[table_no,'Parent Label']+'_'+ codes_df.loc[table_no,'Field Name']\n",
    "    print(table_name_str)\n",
    "    \n",
    "    try:\n",
    "        df = pd.read_csv(sql_folder_location + table_name_str + '.csv')\n",
    "        \n",
    "        df['id'] = df.index\n",
    "        df['Krushak_Odisha'] = df.field.combine_first(df.self)\n",
    "        no_cols =  len(list_of_cols)\n",
    "        t_w = np.repeat(0.5,no_cols)\n",
    "        id_colname = 'id'\n",
    "        gamma = 1\n",
    "        t_w_df,train_data_confidence = carry_out_iterations( df,list_of_cols,t_w,id_colname, gamma)\n",
    "\n",
    "        column_to_check_confidence = 'Krushak_Odisha'\n",
    "\n",
    "        data_copy = get_final_confidence(df, list_of_cols, column_to_check_confidence,t_w_df.loc[t_w_df.shape[0]-1,:] ,id_colname)\n",
    "\n",
    "        conf_table = data_copy[['Krushak_Odisha','int_krushk_id','final_confidence']]\n",
    "\n",
    "        conf_table.to_csv( save_location + table_name_str+str(table_no)+'.csv', encoding = \"utf-8\")\n",
    "        \n",
    "    except :\n",
    "        print('Table ',table_name_str, ' does not exist')\n",
    "    \n",
    "    "
   ]
  },
  {
   "cell_type": "code",
   "execution_count": 58,
   "id": "5e2e4a54",
   "metadata": {},
   "outputs": [
    {
     "name": "stderr",
     "output_type": "stream",
     "text": [
      "C:\\Users\\gauta\\AppData\\Local\\Temp\\ipykernel_27456\\647974077.py:1: DtypeWarning: Columns (1) have mixed types. Specify dtype option on import or set low_memory=False.\n",
      "  df = pd.read_csv(sql_folder_location + 'datakharifcrops' + '.csv').rename(columns= {'krushk_id':'int_krushk_id'})\n"
     ]
    }
   ],
   "source": [
    "df = pd.read_csv(sql_folder_location + 'datakharifcrops' + '.csv').rename(columns= {'krushk_id':'int_krushk_id'})\n",
    "df['id'] = df.index\n",
    "df['Krushak_Odisha'] = df['KO']\n",
    "list_of_cols = ['KO','ama_krushi','ppas','mpas']\n",
    "t_w = np.repeat(0.5,no_cols)\n",
    "id_colname = 'id'\n",
    "gamma = 1\n",
    "table_name_str = 'datakharifcrops'"
   ]
  },
  {
   "cell_type": "code",
   "execution_count": 59,
   "id": "7f0078d4",
   "metadata": {},
   "outputs": [
    {
     "name": "stdout",
     "output_type": "stream",
     "text": [
      "0 [0.5 0.5 0.5 0.5]\n",
      "1 [0.80988975 0.86514662 0.81050114 0.80051832]\n",
      "2 [0.96892174 0.975      0.96876388 0.96364552]\n",
      "3 [0.975 0.975 0.975 0.975]\n",
      "4 [0.975 0.975 0.975 0.975]\n",
      "5 [0.975 0.975 0.975 0.975]\n",
      "6 [0.975 0.975 0.975 0.975]\n"
     ]
    }
   ],
   "source": [
    "t_w_df,train_data_confidence = carry_out_iterations( df,list_of_cols,t_w,id_colname, gamma)\n",
    "\n",
    "column_to_check_confidence = 'Krushak_Odisha'\n",
    "\n",
    "data_copy = get_final_confidence(df, list_of_cols, column_to_check_confidence,t_w_df.loc[t_w_df.shape[0]-1,:] ,id_colname)"
   ]
  },
  {
   "cell_type": "code",
   "execution_count": 60,
   "id": "9f4f0387",
   "metadata": {},
   "outputs": [],
   "source": [
    "conf_table = data_copy[['Krushak_Odisha','int_krushk_id','final_confidence']]\n",
    "conf_table.to_csv( save_location + table_name_str+str(table_no)+'.csv', encoding = \"utf-8\")"
   ]
  },
  {
   "cell_type": "code",
   "execution_count": 61,
   "id": "344fac21",
   "metadata": {},
   "outputs": [
    {
     "name": "stderr",
     "output_type": "stream",
     "text": [
      "C:\\Users\\gauta\\AppData\\Local\\Temp\\ipykernel_27456\\1538114463.py:1: DtypeWarning: Columns (1) have mixed types. Specify dtype option on import or set low_memory=False.\n",
      "  df = pd.read_csv(sql_folder_location + 'datarabicrops' + '.csv').rename(columns= {'krushk_id':'int_krushk_id'})\n"
     ]
    }
   ],
   "source": [
    "df = pd.read_csv(sql_folder_location + 'datarabicrops' + '.csv').rename(columns= {'krushk_id':'int_krushk_id'})\n",
    "df['id'] = df.index\n",
    "df['Krushak_Odisha'] = df['KO']\n",
    "list_of_cols = ['KO','ama_krushi','ppas','mpas']\n",
    "t_w = np.repeat(0.5,no_cols)\n",
    "id_colname = 'id'\n",
    "gamma = 1\n",
    "table_name_str = 'datarabicrops'"
   ]
  },
  {
   "cell_type": "code",
   "execution_count": 64,
   "id": "01d28e3c",
   "metadata": {},
   "outputs": [
    {
     "name": "stdout",
     "output_type": "stream",
     "text": [
      "0 [0.5 0.5 0.5 0.5]\n",
      "1 [0.80769488 0.84800199 0.80855235 0.80003784]\n",
      "2 [0.96756684 0.975      0.967372   0.96298348]\n",
      "3 [0.975 0.975 0.975 0.975]\n",
      "4 [0.975 0.975 0.975 0.975]\n",
      "5 [0.975 0.975 0.975 0.975]\n",
      "6 [0.975 0.975 0.975 0.975]\n"
     ]
    }
   ],
   "source": [
    "t_w_df,train_data_confidence = carry_out_iterations( df,list_of_cols,t_w,id_colname, gamma)\n",
    "\n",
    "column_to_check_confidence = 'Krushak_Odisha'\n",
    "\n",
    "data_copy = get_final_confidence(df, list_of_cols, column_to_check_confidence,t_w_df.loc[t_w_df.shape[0]-1,:] ,id_colname)"
   ]
  },
  {
   "cell_type": "code",
   "execution_count": 65,
   "id": "bd0cff63",
   "metadata": {},
   "outputs": [],
   "source": [
    "conf_table = data_copy[['Krushak_Odisha','int_krushk_id','final_confidence']]\n",
    "conf_table.to_csv( save_location + table_name_str+str(table_no)+'.csv', encoding = \"utf-8\")"
   ]
  },
  {
   "cell_type": "code",
   "execution_count": 80,
   "id": "17604feb",
   "metadata": {},
   "outputs": [],
   "source": [
    "#df = pd.read_csv(sql_folder_location + 'Demographic Details_Farmer Occupation' + '.csv').rename(columns= {'krushk_id':'int_krushk_id'})\n",
    "#df['id'] = df.index\n",
    "\n",
    "#df['Krushak_Odisha'] = df.field.combine_first(df.self)\n",
    "list_of_cols = ['self','field','ppas','mpas','land_records']\n",
    "no_cols =  len(list_of_cols)\n",
    "t_w = np.repeat(0.5,no_cols)\n",
    "id_colname = 'id'\n",
    "gamma = 1\n",
    "table_name_str = 'farmer_occupation'"
   ]
  },
  {
   "cell_type": "code",
   "execution_count": 81,
   "id": "ffebc097",
   "metadata": {},
   "outputs": [
    {
     "name": "stdout",
     "output_type": "stream",
     "text": [
      "0 [0.5 0.5 0.5 0.5 0.5]\n",
      "1 [0.69976898        nan 0.82197181 0.80035364 0.70468192]\n",
      "2 [0.77377595        nan 0.94407056 0.91964403 0.78664682]\n",
      "3 [0.79169808        nan 0.975      0.96410683 0.81422943]\n",
      "4 [0.79233002        nan 0.975      0.975      0.82476928]\n",
      "5 [0.78920556        nan 0.975      0.975      0.83059654]\n",
      "6 [0.78572129        nan 0.975      0.975      0.83488708]\n",
      "7 [0.78258111        nan 0.975      0.975      0.83841869]\n",
      "8 [0.7798748         nan 0.975      0.975      0.84142203]\n",
      "9 [0.77756315        nan 0.975      0.975      0.84400032]\n",
      "10 [0.77558862        nan 0.975      0.975      0.84622131]\n",
      "11 [0.77389848        nan 0.975      0.975      0.84813819]\n",
      "12 [0.77244822        nan 0.975      0.975      0.84979507]\n",
      "13 [0.77120088        nan 0.975      0.975      0.85122913]\n",
      "14 [0.77012581        nan 0.975      0.975      0.85247183]\n",
      "15 [0.76919748        nan 0.975      0.975      0.85354989]\n",
      "16 [0.76839454        nan 0.975      0.975      0.85448608]\n",
      "17 [0.76769903        nan 0.975      0.975      0.8552998 ]\n",
      "18 [0.76709581        nan 0.975      0.975      0.85600764]\n",
      "19 [0.76657205        nan 0.975      0.975      0.85662382]\n"
     ]
    }
   ],
   "source": [
    "t_w_df,train_data_confidence = carry_out_iterations( df,list_of_cols,t_w,id_colname, gamma)\n",
    "\n",
    "column_to_check_confidence = 'Krushak_Odisha'\n",
    "\n",
    "data_copy = get_final_confidence(df, list_of_cols, column_to_check_confidence,t_w_df.loc[t_w_df.shape[0]-1,:] ,id_colname)\n",
    "\n",
    "conf_table = data_copy[['Krushak_Odisha','int_krushk_id','final_confidence']]\n",
    "\n",
    "conf_table.to_csv( save_location + table_name_str+str(table_no)+'.csv', encoding = \"utf-8\")"
   ]
  },
  {
   "cell_type": "code",
   "execution_count": 83,
   "id": "18dfda8e",
   "metadata": {},
   "outputs": [
    {
     "data": {
      "text/plain": [
       "0.7706630073987739"
      ]
     },
     "execution_count": 83,
     "metadata": {},
     "output_type": "execute_result"
    }
   ],
   "source": [
    "conf_table['final_confidence'].mean()"
   ]
  },
  {
   "cell_type": "code",
   "execution_count": 107,
   "id": "5c9680a5",
   "metadata": {},
   "outputs": [
    {
     "name": "stderr",
     "output_type": "stream",
     "text": [
      "C:\\Users\\gauta\\AppData\\Local\\Temp\\ipykernel_27456\\3085113500.py:1: DtypeWarning: Columns (1,8) have mixed types. Specify dtype option on import or set low_memory=False.\n",
      "  df = pd.read_csv(sql_folder_location + 'Crop Production Details_Tehsil'+ '.csv').rename(columns= {'krushk_id':'int_krushk_id'})\n"
     ]
    }
   ],
   "source": [
    "df = pd.read_csv(sql_folder_location + 'Crop Production Details_Tehsil'+ '.csv').rename(columns= {'krushk_id':'int_krushk_id'})"
   ]
  },
  {
   "cell_type": "code",
   "execution_count": 108,
   "id": "d0b99271",
   "metadata": {},
   "outputs": [
    {
     "data": {
      "text/html": [
       "<div>\n",
       "<style scoped>\n",
       "    .dataframe tbody tr th:only-of-type {\n",
       "        vertical-align: middle;\n",
       "    }\n",
       "\n",
       "    .dataframe tbody tr th {\n",
       "        vertical-align: top;\n",
       "    }\n",
       "\n",
       "    .dataframe thead th {\n",
       "        text-align: right;\n",
       "    }\n",
       "</style>\n",
       "<table border=\"1\" class=\"dataframe\">\n",
       "  <thead>\n",
       "    <tr style=\"text-align: right;\">\n",
       "      <th></th>\n",
       "      <th>int_krushk_id</th>\n",
       "      <th>vch_aadharno</th>\n",
       "      <th>vch_tahsil</th>\n",
       "      <th>vch_village</th>\n",
       "      <th>vch_khata_no</th>\n",
       "      <th>vch_plot_no</th>\n",
       "      <th>field</th>\n",
       "      <th>self</th>\n",
       "      <th>ppas</th>\n",
       "    </tr>\n",
       "  </thead>\n",
       "  <tbody>\n",
       "    <tr>\n",
       "      <th>176</th>\n",
       "      <td>514</td>\n",
       "      <td>232169939626</td>\n",
       "      <td>11.0</td>\n",
       "      <td>78.0</td>\n",
       "      <td>42</td>\n",
       "      <td>2231</td>\n",
       "      <td>3.0</td>\n",
       "      <td>NaN</td>\n",
       "      <td>ମାହାଙ୍ଗା</td>\n",
       "    </tr>\n",
       "    <tr>\n",
       "      <th>177</th>\n",
       "      <td>514</td>\n",
       "      <td>232169939626</td>\n",
       "      <td>11.0</td>\n",
       "      <td>78.0</td>\n",
       "      <td>42</td>\n",
       "      <td>871</td>\n",
       "      <td>3.0</td>\n",
       "      <td>NaN</td>\n",
       "      <td>ମାହାଙ୍ଗା</td>\n",
       "    </tr>\n",
       "    <tr>\n",
       "      <th>383</th>\n",
       "      <td>2407</td>\n",
       "      <td>229689689504</td>\n",
       "      <td>NaN</td>\n",
       "      <td>NaN</td>\n",
       "      <td>194</td>\n",
       "      <td>627</td>\n",
       "      <td>NaN</td>\n",
       "      <td>NaN</td>\n",
       "      <td>ସୁକୁନ୍ଦା</td>\n",
       "    </tr>\n",
       "    <tr>\n",
       "      <th>388</th>\n",
       "      <td>2407</td>\n",
       "      <td>229689689504</td>\n",
       "      <td>NaN</td>\n",
       "      <td>NaN</td>\n",
       "      <td>335</td>\n",
       "      <td>3229/3464</td>\n",
       "      <td>NaN</td>\n",
       "      <td>NaN</td>\n",
       "      <td>ସୁକୁନ୍ଦା</td>\n",
       "    </tr>\n",
       "    <tr>\n",
       "      <th>391</th>\n",
       "      <td>2407</td>\n",
       "      <td>229689689504</td>\n",
       "      <td>NaN</td>\n",
       "      <td>NaN</td>\n",
       "      <td>335</td>\n",
       "      <td>621/3684</td>\n",
       "      <td>NaN</td>\n",
       "      <td>NaN</td>\n",
       "      <td>ସୁକୁନ୍ଦା</td>\n",
       "    </tr>\n",
       "    <tr>\n",
       "      <th>...</th>\n",
       "      <td>...</td>\n",
       "      <td>...</td>\n",
       "      <td>...</td>\n",
       "      <td>...</td>\n",
       "      <td>...</td>\n",
       "      <td>...</td>\n",
       "      <td>...</td>\n",
       "      <td>...</td>\n",
       "      <td>...</td>\n",
       "    </tr>\n",
       "    <tr>\n",
       "      <th>12642499</th>\n",
       "      <td>8988683</td>\n",
       "      <td>977461098175</td>\n",
       "      <td>2.0</td>\n",
       "      <td>178.0</td>\n",
       "      <td>237</td>\n",
       "      <td>786</td>\n",
       "      <td>11.0</td>\n",
       "      <td>NaN</td>\n",
       "      <td>ନିମାପଡା</td>\n",
       "    </tr>\n",
       "    <tr>\n",
       "      <th>12648033</th>\n",
       "      <td>9058666</td>\n",
       "      <td>968908078857</td>\n",
       "      <td>8.0</td>\n",
       "      <td>161.0</td>\n",
       "      <td>208</td>\n",
       "      <td>2329</td>\n",
       "      <td>14.0</td>\n",
       "      <td>NaN</td>\n",
       "      <td>କିଶୋର ନଗର</td>\n",
       "    </tr>\n",
       "    <tr>\n",
       "      <th>12648035</th>\n",
       "      <td>9058666</td>\n",
       "      <td>968908078857</td>\n",
       "      <td>8.0</td>\n",
       "      <td>161.0</td>\n",
       "      <td>208</td>\n",
       "      <td>3303</td>\n",
       "      <td>14.0</td>\n",
       "      <td>NaN</td>\n",
       "      <td>କିଶୋର ନଗର</td>\n",
       "    </tr>\n",
       "    <tr>\n",
       "      <th>12657922</th>\n",
       "      <td>9192455</td>\n",
       "      <td>998864353075</td>\n",
       "      <td>5.0</td>\n",
       "      <td>19.0</td>\n",
       "      <td>335</td>\n",
       "      <td>728</td>\n",
       "      <td>17.0</td>\n",
       "      <td>NaN</td>\n",
       "      <td>ବିରିଡି</td>\n",
       "    </tr>\n",
       "    <tr>\n",
       "      <th>12668907</th>\n",
       "      <td>9388233</td>\n",
       "      <td>975050989263</td>\n",
       "      <td>5.0</td>\n",
       "      <td>94.0</td>\n",
       "      <td>26</td>\n",
       "      <td>1654</td>\n",
       "      <td>12.0</td>\n",
       "      <td>NaN</td>\n",
       "      <td>ବାମରା</td>\n",
       "    </tr>\n",
       "  </tbody>\n",
       "</table>\n",
       "<p>771195 rows × 9 columns</p>\n",
       "</div>"
      ],
      "text/plain": [
       "          int_krushk_id  vch_aadharno  vch_tahsil  vch_village vch_khata_no  \\\n",
       "176                 514  232169939626        11.0         78.0           42   \n",
       "177                 514  232169939626        11.0         78.0           42   \n",
       "383                2407  229689689504         NaN          NaN          194   \n",
       "388                2407  229689689504         NaN          NaN          335   \n",
       "391                2407  229689689504         NaN          NaN          335   \n",
       "...                 ...           ...         ...          ...          ...   \n",
       "12642499        8988683  977461098175         2.0        178.0          237   \n",
       "12648033        9058666  968908078857         8.0        161.0          208   \n",
       "12648035        9058666  968908078857         8.0        161.0          208   \n",
       "12657922        9192455  998864353075         5.0         19.0          335   \n",
       "12668907        9388233  975050989263         5.0         94.0           26   \n",
       "\n",
       "         vch_plot_no  field  self       ppas  \n",
       "176             2231    3.0   NaN  ମାହାଙ୍ଗା   \n",
       "177              871    3.0   NaN  ମାହାଙ୍ଗା   \n",
       "383              627    NaN   NaN   ସୁକୁନ୍ଦା  \n",
       "388        3229/3464    NaN   NaN   ସୁକୁନ୍ଦା  \n",
       "391         621/3684    NaN   NaN   ସୁକୁନ୍ଦା  \n",
       "...              ...    ...   ...        ...  \n",
       "12642499         786   11.0   NaN    ନିମାପଡା  \n",
       "12648033        2329   14.0   NaN  କିଶୋର ନଗର  \n",
       "12648035        3303   14.0   NaN  କିଶୋର ନଗର  \n",
       "12657922         728   17.0   NaN     ବିରିଡି  \n",
       "12668907        1654   12.0   NaN      ବାମରା  \n",
       "\n",
       "[771195 rows x 9 columns]"
      ]
     },
     "execution_count": 108,
     "metadata": {},
     "output_type": "execute_result"
    }
   ],
   "source": [
    "df.loc[~pd.isnull(df['ppas']),:]"
   ]
  },
  {
   "cell_type": "code",
   "execution_count": 106,
   "id": "62f02590",
   "metadata": {},
   "outputs": [],
   "source": [
    "df.loc[~pd.isnull(df.ppas),: ].groupby(['field','ppas']).size().reset_index().to_csv('land_record_ppas_district.csv',index=False)\n",
    "df.loc[~pd.isnull(df.mpas),: ].groupby(['field','mpas']).size().reset_index().to_csv('land_record_mpas_district.csv',index=False)"
   ]
  },
  {
   "cell_type": "code",
   "execution_count": 86,
   "id": "c1932e0e",
   "metadata": {},
   "outputs": [],
   "source": [
    "# df = pd.read_csv(sql_folder_location + 'equipments' + '.csv').rename(columns= {'krushk_id':'int_krushk_id'})\n",
    "# df['id'] = df.index\n",
    "\n",
    "# df['Krushak_Odisha'] = df.field.combine_first(df.self)\n",
    "list_of_cols = ['field', 'self', 'mkuy']\n",
    "no_cols =  len(list_of_cols)\n",
    "t_w = np.repeat(0.5,no_cols)\n",
    "id_colname = 'id'\n",
    "gamma = 1\n",
    "table_name_str = 'equipments'"
   ]
  },
  {
   "cell_type": "code",
   "execution_count": 87,
   "id": "49066442",
   "metadata": {},
   "outputs": [
    {
     "name": "stdout",
     "output_type": "stream",
     "text": [
      "0 [0.5 0.5 0.5]\n",
      "1 [0.5 nan 0.5]\n",
      "2 [0.5 nan 0.5]\n",
      "3 [0.5 nan 0.5]\n",
      "4 [0.5 nan 0.5]\n",
      "5 [0.5 nan 0.5]\n",
      "6 [0.5 nan 0.5]\n"
     ]
    }
   ],
   "source": [
    "t_w_df,train_data_confidence = carry_out_iterations( df,list_of_cols,t_w,id_colname, gamma)\n",
    "\n",
    "column_to_check_confidence = 'Krushak_Odisha'\n",
    "\n",
    "data_copy = get_final_confidence(df, list_of_cols, column_to_check_confidence,t_w_df.loc[t_w_df.shape[0]-1,:] ,id_colname)\n",
    "\n",
    "conf_table = data_copy[['Krushak_Odisha','int_krushk_id','final_confidence']]\n",
    "\n",
    "conf_table.to_csv( save_location + table_name_str+str(table_no)+'.csv', encoding = \"utf-8\")"
   ]
  },
  {
   "cell_type": "code",
   "execution_count": 92,
   "id": "92ebf08c",
   "metadata": {},
   "outputs": [
    {
     "data": {
      "text/plain": [
       "0.6632432614768473"
      ]
     },
     "execution_count": 92,
     "metadata": {},
     "output_type": "execute_result"
    }
   ],
   "source": [
    "conf_table['final_confidence'].mean()"
   ]
  },
  {
   "cell_type": "code",
   "execution_count": 147,
   "id": "57726c5c",
   "metadata": {},
   "outputs": [
    {
     "name": "stderr",
     "output_type": "stream",
     "text": [
      "C:\\Users\\gauta\\AppData\\Local\\Temp\\ipykernel_27456\\119833290.py:1: DtypeWarning: Columns (1,9) have mixed types. Specify dtype option on import or set low_memory=False.\n",
      "  df = pd.read_csv(sql_folder_location + 'Crop Production Details_District' + '.csv').rename(columns= {'krushk_id':'int_krushk_id'})\n"
     ]
    }
   ],
   "source": [
    "df = pd.read_csv(sql_folder_location + 'Crop Production Details_District' + '.csv').rename(columns= {'krushk_id':'int_krushk_id'})"
   ]
  },
  {
   "cell_type": "code",
   "execution_count": 146,
   "id": "fbc552a6",
   "metadata": {},
   "outputs": [
    {
     "data": {
      "text/plain": [
       "(8845680, 10)"
      ]
     },
     "execution_count": 146,
     "metadata": {},
     "output_type": "execute_result"
    }
   ],
   "source": [
    "df.shape"
   ]
  },
  {
   "cell_type": "code",
   "execution_count": 151,
   "id": "e80abdab",
   "metadata": {},
   "outputs": [],
   "source": [
    "districts_name =  pd.read_csv('district _mapping.csv').rename(columns = {'mpas':'field_English'})"
   ]
  },
  {
   "cell_type": "code",
   "execution_count": 152,
   "id": "bdf825f2",
   "metadata": {},
   "outputs": [],
   "source": [
    "#districts_name.groupby(['field']).transform('field_English':'count')\n",
    "districts_name = districts_name.drop_duplicates()\n",
    "# districts_name['count'] = districts_name.groupby('field')['field_English'].transform('count')\n",
    "# districts_name.sort_values('field')"
   ]
  },
  {
   "cell_type": "code",
   "execution_count": 154,
   "id": "ba5f9bd8",
   "metadata": {},
   "outputs": [],
   "source": [
    "df = pd.merge(df,districts_name, how = 'left' )"
   ]
  },
  {
   "cell_type": "code",
   "execution_count": 158,
   "id": "037cd9e5",
   "metadata": {},
   "outputs": [],
   "source": [
    "df['field'] = df['field_English']"
   ]
  },
  {
   "cell_type": "code",
   "execution_count": 160,
   "id": "a0d9046c",
   "metadata": {},
   "outputs": [],
   "source": [
    "df['id'] = df.index\n",
    "\n",
    "df['Krushak_Odisha'] = df.field.combine_first(df.self)\n",
    "list_of_cols = ['field', 'self', 'mpas','ppas']\n",
    "no_cols =  len(list_of_cols)\n",
    "t_w = np.repeat(0.5,no_cols)\n",
    "id_colname = 'id'\n",
    "gamma = 1\n",
    "table_name_str = 'Crop Production Details_District'"
   ]
  },
  {
   "cell_type": "code",
   "execution_count": 161,
   "id": "7c6d6281",
   "metadata": {},
   "outputs": [
    {
     "name": "stdout",
     "output_type": "stream",
     "text": [
      "0 [0.5 0.5 0.5 0.5]\n",
      "1 [0.78812333        nan 0.80105037 0.78752959]\n",
      "2 [0.93891966        nan 0.95979803 0.93782278]\n",
      "3 [0.975   nan 0.975 0.975]\n",
      "4 [0.975   nan 0.975 0.975]\n",
      "5 [0.975   nan 0.975 0.975]\n",
      "6 [0.975   nan 0.975 0.975]\n"
     ]
    }
   ],
   "source": [
    "t_w_df,train_data_confidence = carry_out_iterations( df,list_of_cols,t_w,id_colname, gamma)\n",
    "\n",
    "column_to_check_confidence = 'Krushak_Odisha'\n",
    "\n",
    "data_copy = get_final_confidence(df, list_of_cols, column_to_check_confidence,t_w_df.loc[t_w_df.shape[0]-1,:] ,id_colname)\n",
    "\n",
    "conf_table = data_copy[['Krushak_Odisha','int_krushk_id','final_confidence']]\n",
    "\n",
    "conf_table.to_csv( save_location + table_name_str+str(table_no)+'.csv', encoding = \"utf-8\")"
   ]
  },
  {
   "cell_type": "code",
   "execution_count": 162,
   "id": "8baf1ee1",
   "metadata": {},
   "outputs": [
    {
     "data": {
      "text/plain": [
       "0.9757596225505976"
      ]
     },
     "execution_count": 162,
     "metadata": {},
     "output_type": "execute_result"
    }
   ],
   "source": [
    "conf_table['final_confidence'].mean()"
   ]
  },
  {
   "cell_type": "code",
   "execution_count": null,
   "id": "e2cb4371",
   "metadata": {},
   "outputs": [],
   "source": [
    "transliterate_scores_sum_full_db_V3"
   ]
  },
  {
   "cell_type": "code",
   "execution_count": 163,
   "id": "f41b273d",
   "metadata": {},
   "outputs": [],
   "source": [
    "df = pd.read_csv(sql_folder_location + 'transliterate_scores_sum_full_db_V3' + '.csv').rename(columns= {'krushk_id':'int_krushk_id'})"
   ]
  },
  {
   "cell_type": "code",
   "execution_count": 167,
   "id": "3c5d170b",
   "metadata": {},
   "outputs": [],
   "source": [
    "match_vecotor = df['match_with_old']"
   ]
  },
  {
   "cell_type": "code",
   "execution_count": 169,
   "id": "326bc720",
   "metadata": {},
   "outputs": [],
   "source": [
    "df['land_details']= df['vch_farmer_name']"
   ]
  },
  {
   "cell_type": "code",
   "execution_count": 170,
   "id": "9e937c2f",
   "metadata": {},
   "outputs": [],
   "source": [
    "df.loc[ df['match_with_old'] == 0, 'land_details'] = 'No match'"
   ]
  },
  {
   "cell_type": "code",
   "execution_count": 172,
   "id": "cccf58a0",
   "metadata": {},
   "outputs": [],
   "source": [
    "\n",
    "df['field'] =  df['vch_farmer_name']\n",
    "df['self'] =  np.nan"
   ]
  },
  {
   "cell_type": "code",
   "execution_count": 173,
   "id": "527a1eba",
   "metadata": {},
   "outputs": [],
   "source": [
    "df['id'] = df.index\n",
    "\n",
    "df['Krushak_Odisha'] = df.field.combine_first(df.self)\n",
    "list_of_cols = ['field', 'self', 'land_details']\n",
    "no_cols =  len(list_of_cols)\n",
    "t_w = np.repeat(0.5,no_cols)\n",
    "id_colname = 'id'\n",
    "gamma = 1\n",
    "table_name_str = 'Crop Production Famrer_names'"
   ]
  },
  {
   "cell_type": "code",
   "execution_count": 174,
   "id": "abd6c48d",
   "metadata": {},
   "outputs": [
    {
     "name": "stdout",
     "output_type": "stream",
     "text": [
      "0 [0.5 0.5 0.5]\n",
      "1 [0.71854181        nan 0.71854181]\n",
      "2 [0.81076371        nan 0.81076371]\n",
      "3 [0.83905135        nan 0.83905135]\n",
      "4 [0.84584214        nan 0.84584214]\n",
      "5 [0.84732631        nan 0.84732631]\n",
      "6 [0.84764297        nan 0.84764297]\n"
     ]
    }
   ],
   "source": [
    "t_w_df,train_data_confidence = carry_out_iterations( df,list_of_cols,t_w,id_colname, gamma)\n",
    "\n",
    "column_to_check_confidence = 'Krushak_Odisha'\n",
    "\n",
    "data_copy = get_final_confidence(df, list_of_cols, column_to_check_confidence,t_w_df.loc[t_w_df.shape[0]-1,:] ,id_colname)\n",
    "\n",
    "conf_table = data_copy[['Krushak_Odisha','int_krushk_id','final_confidence']]\n",
    "\n",
    "conf_table.to_csv( save_location + table_name_str+str(table_no)+'.csv', encoding = \"utf-8\")"
   ]
  },
  {
   "cell_type": "code",
   "execution_count": 176,
   "id": "8e1120f2",
   "metadata": {},
   "outputs": [
    {
     "data": {
      "text/plain": [
       "0.8477101697667111"
      ]
     },
     "execution_count": 176,
     "metadata": {},
     "output_type": "execute_result"
    }
   ],
   "source": [
    "conf_table['final_confidence'].mean()"
   ]
  },
  {
   "cell_type": "code",
   "execution_count": 177,
   "id": "80d5a8e3",
   "metadata": {},
   "outputs": [
    {
     "name": "stderr",
     "output_type": "stream",
     "text": [
      "C:\\Users\\gauta\\AppData\\Local\\Temp\\ipykernel_27456\\3433678997.py:1: DtypeWarning: Columns (1) have mixed types. Specify dtype option on import or set low_memory=False.\n",
      "  df  = pd.read_csv(sql_folder_location +  'Crop Production Details_Farmer Area under Cultivation (Acres)'+ '.csv').rename(columns= {'krushk_id':'int_krushk_id'})\n"
     ]
    }
   ],
   "source": [
    "df  = pd.read_csv(sql_folder_location +  'Crop Production Details_Farmer Area under Cultivation (Acres)'+ '.csv').rename(columns= {'krushk_id':'int_krushk_id'})"
   ]
  },
  {
   "cell_type": "code",
   "execution_count": 178,
   "id": "10fbe7cc",
   "metadata": {},
   "outputs": [
    {
     "data": {
      "text/html": [
       "<div>\n",
       "<style scoped>\n",
       "    .dataframe tbody tr th:only-of-type {\n",
       "        vertical-align: middle;\n",
       "    }\n",
       "\n",
       "    .dataframe tbody tr th {\n",
       "        vertical-align: top;\n",
       "    }\n",
       "\n",
       "    .dataframe thead th {\n",
       "        text-align: right;\n",
       "    }\n",
       "</style>\n",
       "<table border=\"1\" class=\"dataframe\">\n",
       "  <thead>\n",
       "    <tr style=\"text-align: right;\">\n",
       "      <th></th>\n",
       "      <th>int_krushk_id</th>\n",
       "      <th>vch_aadharno</th>\n",
       "      <th>vch_tahsil</th>\n",
       "      <th>vch_village</th>\n",
       "      <th>vch_khata_no</th>\n",
       "      <th>vch_plot_no</th>\n",
       "      <th>field</th>\n",
       "      <th>self</th>\n",
       "      <th>mpas</th>\n",
       "      <th>ppas</th>\n",
       "    </tr>\n",
       "  </thead>\n",
       "  <tbody>\n",
       "    <tr>\n",
       "      <th>0</th>\n",
       "      <td>817453</td>\n",
       "      <td>000000000006</td>\n",
       "      <td>2</td>\n",
       "      <td>55</td>\n",
       "      <td>14/3</td>\n",
       "      <td>126</td>\n",
       "      <td>14/3</td>\n",
       "      <td>NaN</td>\n",
       "      <td>NaN</td>\n",
       "      <td>NaN</td>\n",
       "    </tr>\n",
       "    <tr>\n",
       "      <th>1</th>\n",
       "      <td>3423322</td>\n",
       "      <td>000000000010</td>\n",
       "      <td>2</td>\n",
       "      <td>57</td>\n",
       "      <td>65/77</td>\n",
       "      <td>520</td>\n",
       "      <td>65/77</td>\n",
       "      <td>NaN</td>\n",
       "      <td>NaN</td>\n",
       "      <td>NaN</td>\n",
       "    </tr>\n",
       "    <tr>\n",
       "      <th>2</th>\n",
       "      <td>4334351</td>\n",
       "      <td>000000000011</td>\n",
       "      <td>2</td>\n",
       "      <td>57</td>\n",
       "      <td>65/120</td>\n",
       "      <td>475/1011</td>\n",
       "      <td>65/120</td>\n",
       "      <td>NaN</td>\n",
       "      <td>NaN</td>\n",
       "      <td>NaN</td>\n",
       "    </tr>\n",
       "    <tr>\n",
       "      <th>3</th>\n",
       "      <td>4154236</td>\n",
       "      <td>000000000012</td>\n",
       "      <td>2</td>\n",
       "      <td>57</td>\n",
       "      <td>36</td>\n",
       "      <td>360/958</td>\n",
       "      <td>36</td>\n",
       "      <td>NaN</td>\n",
       "      <td>NaN</td>\n",
       "      <td>NaN</td>\n",
       "    </tr>\n",
       "  </tbody>\n",
       "</table>\n",
       "</div>"
      ],
      "text/plain": [
       "   int_krushk_id  vch_aadharno  vch_tahsil  vch_village vch_khata_no  \\\n",
       "0         817453  000000000006           2           55         14/3   \n",
       "1        3423322  000000000010           2           57        65/77   \n",
       "2        4334351  000000000011           2           57       65/120   \n",
       "3        4154236  000000000012           2           57           36   \n",
       "\n",
       "  vch_plot_no   field  self mpas ppas  \n",
       "0         126    14/3   NaN  NaN  NaN  \n",
       "1         520   65/77   NaN  NaN  NaN  \n",
       "2    475/1011  65/120   NaN  NaN  NaN  \n",
       "3     360/958      36   NaN  NaN  NaN  "
      ]
     },
     "execution_count": 178,
     "metadata": {},
     "output_type": "execute_result"
    }
   ],
   "source": [
    "df.head(4)"
   ]
  }
 ],
 "metadata": {
  "kernelspec": {
   "display_name": "Python 3 (ipykernel)",
   "language": "python",
   "name": "python3"
  },
  "language_info": {
   "codemirror_mode": {
    "name": "ipython",
    "version": 3
   },
   "file_extension": ".py",
   "mimetype": "text/x-python",
   "name": "python",
   "nbconvert_exporter": "python",
   "pygments_lexer": "ipython3",
   "version": "3.9.12"
  },
  "toc": {
   "base_numbering": 1,
   "nav_menu": {},
   "number_sections": true,
   "sideBar": true,
   "skip_h1_title": false,
   "title_cell": "Table of Contents",
   "title_sidebar": "Contents",
   "toc_cell": false,
   "toc_position": {},
   "toc_section_display": true,
   "toc_window_display": false
  },
  "varInspector": {
   "cols": {
    "lenName": 16,
    "lenType": 16,
    "lenVar": 40
   },
   "kernels_config": {
    "python": {
     "delete_cmd_postfix": "",
     "delete_cmd_prefix": "del ",
     "library": "var_list.py",
     "varRefreshCmd": "print(var_dic_list())"
    },
    "r": {
     "delete_cmd_postfix": ") ",
     "delete_cmd_prefix": "rm(",
     "library": "var_list.r",
     "varRefreshCmd": "cat(var_dic_list()) "
    }
   },
   "types_to_exclude": [
    "module",
    "function",
    "builtin_function_or_method",
    "instance",
    "_Feature"
   ],
   "window_display": false
  }
 },
 "nbformat": 4,
 "nbformat_minor": 5
}
